{
 "cells": [
  {
   "cell_type": "markdown",
   "metadata": {},
   "source": [
    "# Movie Recommendation Engine Using KNN Model \n",
    "@author: VAISHALI SHARMA, MS Data Science"
   ]
  },
  {
   "cell_type": "code",
   "execution_count": 100,
   "metadata": {},
   "outputs": [],
   "source": [
    "import numpy as np\n",
    "import pandas as pd\n",
    "import math "
   ]
  },
  {
   "cell_type": "code",
   "execution_count": 101,
   "metadata": {},
   "outputs": [],
   "source": [
    "#Movie DataSet\n",
    "Piano = [0,1,0,1,1,0,0,0]\n",
    "Pulp_fiction = [0,1,1,0,1,0,0,1]\n",
    "Clueless = [1,0,0,0,0,1,1,0]\n",
    "Cliffhanger = [0,1,0,1,1,0,0,1]\n",
    "Fargo = [0,1,1,0,1,0,0,1]"
   ]
  },
  {
   "cell_type": "code",
   "execution_count": 102,
   "metadata": {},
   "outputs": [
    {
     "name": "stdout",
     "output_type": "stream",
     "text": [
      "\n",
      "Computing Euclidean Distance between two movies................\n",
      "\n",
      "Euclidean distance between Fargo and Piano is:   1.7320508075688772\n",
      "Euclidean distance between Fargo and Pulp Fiction is:  0.0\n",
      "Euclidean distance between Fargo and Clueless is:   2.6457513110645907\n",
      "Euclidean distance between Fargo and Cliffhanger is:   1.4142135623730951\n",
      "\n",
      "Finding Class and average ratings from the distances...........\n",
      "\n",
      "The elements in positive class are:   [1.7320508075688772, 0.0, 1.4142135623730951]\n",
      "Average ratings for positive class is:   1.0487547899806575\n",
      "The elements in negative class are:    [2.6457513110645907]\n",
      "Average ratings for negative class is:   [2.6457513110645907]\n"
     ]
    }
   ],
   "source": [
    "#Computing the euclidean_distance between two points\n",
    "\n",
    "def euclidean_distance(Movie1, Movie2):\n",
    "    sum_of_squares_of_distances =np.sum(((np.array(Movie1))- (np.array(Movie2))) ** 2)\n",
    "    sqrt_sumofsquares = math.sqrt(sum_of_squares_of_distances)\n",
    "    return sqrt_sumofsquares\n",
    "\n",
    "print(\"\\nComputing Euclidean Distance between two movies................\")\n",
    "distF_P = euclidean_distance(Fargo, Piano)\n",
    "print(\"\\nEuclidean distance between Fargo and Piano is:  \", distF_P)\n",
    "distF_PF = euclidean_distance(Fargo, Pulp_fiction)\n",
    "print(\"Euclidean distance between Fargo and Pulp Fiction is: \", distF_PF)\n",
    "distF_C = euclidean_distance(Fargo, Clueless)\n",
    "print(\"Euclidean distance between Fargo and Clueless is:  \", distF_C)\n",
    "distF_CL = euclidean_distance(Fargo, Cliffhanger)\n",
    "print(\"Euclidean distance between Fargo and Cliffhanger is:  \", distF_CL)\n",
    "\n",
    "print(\"\\nFinding Class and average ratings from the distances...........\")\n",
    "Ken = [1,1,0,1]\n",
    "if Ken[i] == 1:\n",
    "    Positive_Class=[distF_P, distF_PF, distF_CL]\n",
    "    print(\"\\nThe elements in positive class are:  \", (Positive_Class))\n",
    "    average_ratings_positive_class = np.mean(Positive_Class)\n",
    "    print(\"Average ratings for positive class is:  \", average_ratings_positive_class)\n",
    "\n",
    "negative_class=[distF_C]\n",
    "print(\"The elements in negative class are:   \",  negative_class)\n",
    "print(\"Average ratings for negative class is:  \", negative_class)"
   ]
  },
  {
   "cell_type": "code",
   "execution_count": 103,
   "metadata": {},
   "outputs": [
    {
     "name": "stdout",
     "output_type": "stream",
     "text": [
      "Searching for recommendations......\n",
      "Fargo is recommended to Ken\n"
     ]
    }
   ],
   "source": [
    "#Searching for Recommendations\n",
    "print(\"Searching for recommendations......\")\n",
    "if average_ratings_positive_class > negative_class:\n",
    "    print(\"Fargo is not recommended to Ken\")\n",
    "else:\n",
    "    print(\"Fargo is recommended to Ken\")"
   ]
  },
  {
   "cell_type": "markdown",
   "metadata": {},
   "source": [
    "# Movie Recommendation Engine using Naive Bayes Model \n",
    "@author: VAISHALI SHARMA, MS Data Science "
   ]
  },
  {
   "cell_type": "code",
   "execution_count": 106,
   "metadata": {},
   "outputs": [],
   "source": [
    "#Dataset used for the study\n",
    "Piano = [0,1,0,1,1,0,0,0]\n",
    "Pulp_fiction = [0,1,1,0,1,0,0,1]\n",
    "Clueless = [1,0,0,0,0,1,1,0]\n",
    "Cliffhanger = [0,1,0,1,1,0,0,1]\n",
    "Fargo = [0,1,1,0,1,0,0,1]"
   ]
  },
  {
   "cell_type": "code",
   "execution_count": 107,
   "metadata": {},
   "outputs": [],
   "source": [
    "movie_dataset = [\n",
    "    [1,1,0,1,1],\n",
    "    [0,1,0,0,1],\n",
    "    [1,1,0,1,1],\n",
    "    [0,1,0,1,1],\n",
    "    [0,0,1,0,0],\n",
    "    [1,0,0,1,0],\n",
    "    [0,0,1,0,0],\n",
    "    [0,0,1,0,0]\n",
    "    ]"
   ]
  },
  {
   "cell_type": "code",
   "execution_count": 108,
   "metadata": {},
   "outputs": [
    {
     "name": "stdout",
     "output_type": "stream",
     "text": [
      "1\n",
      "[1, 1, 0, 1, 1]\n",
      "[0, 1, 0, 0, 1]\n",
      "[1, 1, 0, 1, 1]\n",
      "[0, 1, 0, 1, 1]\n",
      "0\n",
      "[0, 0, 1, 0, 0]\n",
      "[1, 0, 0, 1, 0]\n",
      "[0, 0, 1, 0, 0]\n",
      "[0, 0, 1, 0, 0]\n"
     ]
    }
   ],
   "source": [
    "#Seperating using class\n",
    "def separate_by_class(movie_dataset):\n",
    "    separated = dict()\n",
    "    for i in range(len(movie_dataset)):\n",
    "        row = movie_dataset[i]\n",
    "        value = row[-1]\n",
    "        if (value not in separated):\n",
    "            separated[value] = list()\n",
    "        separated[value].append(row)\n",
    "    return separated\n",
    "separated = separate_by_class(movie_dataset)\n",
    "for label in separated:\n",
    "    print(label)\n",
    "    for values in separated[label]:\n",
    "        print(values)"
   ]
  },
  {
   "cell_type": "code",
   "execution_count": 109,
   "metadata": {},
   "outputs": [],
   "source": [
    "Ken = [1,1,0,1]"
   ]
  },
  {
   "cell_type": "code",
   "execution_count": 110,
   "metadata": {},
   "outputs": [
    {
     "name": "stdout",
     "output_type": "stream",
     "text": [
      "Total Positive Class: 4 / 8\n"
     ]
    }
   ],
   "source": [
    "#Compute total positive class\n",
    "prob_positive_class = 1\n",
    "count = 0\n",
    "add = 0\n",
    "for row in movie_data:\n",
    "    if(row[-1] == 1):\n",
    "        count+=1\n",
    "    add+=1\n",
    "print(\"Total Positive Class: \"+str(count)+\" / \"+str(add))\n",
    "prob_positive_class *= count/add"
   ]
  },
  {
   "cell_type": "code",
   "execution_count": 111,
   "metadata": {},
   "outputs": [
    {
     "name": "stdout",
     "output_type": "stream",
     "text": [
      "Total Negative Class: 4 / 8\n"
     ]
    }
   ],
   "source": [
    "#Compute total Negative class\n",
    "prob_negative_class = 0\n",
    "count = 0\n",
    "add = 0\n",
    "for row in movie_data:\n",
    "    if(row[-1] == 0):\n",
    "        count+=1\n",
    "    add+=1\n",
    "print(\"Total Negative Class: \"+str(count)+\" / \"+str(add))\n",
    "prob_negative_class *= count/add"
   ]
  },
  {
   "cell_type": "code",
   "execution_count": 112,
   "metadata": {},
   "outputs": [
    {
     "name": "stdout",
     "output_type": "stream",
     "text": [
      "FOR MOVIE 1\n",
      "3 / 8\n",
      "FOR MOVIE 2\n",
      "5 / 8\n",
      "FOR MOVIE 3\n",
      "5 / 8\n",
      "FOR MOVIE 4\n",
      "4 / 8\n",
      "0.03662109375\n"
     ]
    }
   ],
   "source": [
    "#What is the probability of all movies with positive ratings\n",
    "for i in range(len(Ken)):\n",
    "    count = 1\n",
    "    add = 4\n",
    "    for row in ydataset[1]:\n",
    "        if(Ken[i] == row[i]):\n",
    "            count += 1\n",
    "        add += 1\n",
    "    print('FOR MOVIE ' + str(i+1))\n",
    "    print(str(count)+\" / \" +str(add))\n",
    "    prob_positive_class *= count/add\n",
    "print(prob_positive_class)"
   ]
  },
  {
   "cell_type": "code",
   "execution_count": 116,
   "metadata": {},
   "outputs": [
    {
     "name": "stdout",
     "output_type": "stream",
     "text": [
      "FOR MOVIE 1\n",
      "2 / 8\n",
      "FOR MOVIE 2\n",
      "1 / 8\n",
      "FOR MOVIE 3\n",
      "2 / 8\n",
      "FOR MOVIE 4\n",
      "2 / 8\n"
     ]
    }
   ],
   "source": [
    "#What is the probability of all movies with negative ratings\n",
    "Ken = [1,1,0,1]\n",
    "for i in range(len(Ken)):\n",
    "    count = 0\n",
    "    add = 0\n",
    "    for row in ydataset[0]:\n",
    "        if(Ken[i] == row[i]):\n",
    "            count += 1\n",
    "        add += 1\n",
    "    print('FOR MOVIE ' + str(i+1))\n",
    "    print(str(count+1)+\" / \" + str(add+4))\n",
    "    prob_negative_class *= count/add"
   ]
  },
  {
   "cell_type": "code",
   "execution_count": 98,
   "metadata": {},
   "outputs": [
    {
     "name": "stdout",
     "output_type": "stream",
     "text": [
      "Searching for recommendations......\n",
      "Fargo is recommended to Ken\n"
     ]
    }
   ],
   "source": [
    "#Searching for Recommendations\n",
    "print(\"Searching for recommendations......\")\n",
    "if prob_positive_class > prob_negative_class:\n",
    "    print(\"Fargo is recommended to Ken\")\n",
    "else:\n",
    "    print(\"Fargo is not recommended to Ken\")"
   ]
  }
 ],
 "metadata": {
  "kernelspec": {
   "display_name": "Python 3",
   "language": "python",
   "name": "python3"
  },
  "language_info": {
   "codemirror_mode": {
    "name": "ipython",
    "version": 3
   },
   "file_extension": ".py",
   "mimetype": "text/x-python",
   "name": "python",
   "nbconvert_exporter": "python",
   "pygments_lexer": "ipython3",
   "version": "3.8.5"
  }
 },
 "nbformat": 4,
 "nbformat_minor": 4
}
